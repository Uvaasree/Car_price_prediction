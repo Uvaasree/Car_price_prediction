{
 "cells": [
  {
   "cell_type": "code",
   "execution_count": 116,
   "id": "0902a550",
   "metadata": {},
   "outputs": [],
   "source": [
    "import pandas as pd"
   ]
  },
  {
   "cell_type": "code",
   "execution_count": 117,
   "id": "f6587df6",
   "metadata": {},
   "outputs": [],
   "source": [
    "df= pd.read_excel(\"E:/car_price_prediction/car_price_data.xlsx\")"
   ]
  },
  {
   "cell_type": "code",
   "execution_count": 118,
   "id": "e7cd9d74",
   "metadata": {
    "scrolled": true
   },
   "outputs": [],
   "source": [
    "df.drop(columns=['Unnamed: 0'],inplace=True)"
   ]
  },
  {
   "cell_type": "code",
   "execution_count": 119,
   "id": "9e35d8b3",
   "metadata": {},
   "outputs": [
    {
     "data": {
      "text/html": [
       "<div>\n",
       "<style scoped>\n",
       "    .dataframe tbody tr th:only-of-type {\n",
       "        vertical-align: middle;\n",
       "    }\n",
       "\n",
       "    .dataframe tbody tr th {\n",
       "        vertical-align: top;\n",
       "    }\n",
       "\n",
       "    .dataframe thead th {\n",
       "        text-align: right;\n",
       "    }\n",
       "</style>\n",
       "<table border=\"1\" class=\"dataframe\">\n",
       "  <thead>\n",
       "    <tr style=\"text-align: right;\">\n",
       "      <th></th>\n",
       "      <th>it</th>\n",
       "      <th>ft</th>\n",
       "      <th>bt</th>\n",
       "      <th>km</th>\n",
       "      <th>transmission</th>\n",
       "      <th>ownerNo</th>\n",
       "      <th>owner</th>\n",
       "      <th>oem</th>\n",
       "      <th>model</th>\n",
       "      <th>modelYear</th>\n",
       "      <th>...</th>\n",
       "      <th>Tyre Type</th>\n",
       "      <th>Alloy Wheel Size</th>\n",
       "      <th>No Door Numbers</th>\n",
       "      <th>Ground Clearance Unladen</th>\n",
       "      <th>Cargo Volumn</th>\n",
       "      <th>Compression Ratio</th>\n",
       "      <th>Acceleration</th>\n",
       "      <th>Top Speed</th>\n",
       "      <th>car_links</th>\n",
       "      <th>city</th>\n",
       "    </tr>\n",
       "  </thead>\n",
       "  <tbody>\n",
       "    <tr>\n",
       "      <th>0</th>\n",
       "      <td>0.0</td>\n",
       "      <td>Petrol</td>\n",
       "      <td>Sedan</td>\n",
       "      <td>70,000</td>\n",
       "      <td>Automatic</td>\n",
       "      <td>3.0</td>\n",
       "      <td>3rd Owner</td>\n",
       "      <td>Toyota</td>\n",
       "      <td>Toyota Camry</td>\n",
       "      <td>2014.0</td>\n",
       "      <td>...</td>\n",
       "      <td>Tubeless,Radial</td>\n",
       "      <td>17</td>\n",
       "      <td>4.0</td>\n",
       "      <td>NaN</td>\n",
       "      <td>NaN</td>\n",
       "      <td>NaN</td>\n",
       "      <td>NaN</td>\n",
       "      <td>NaN</td>\n",
       "      <td>https://www.cardekho.com/used-car-details/used...</td>\n",
       "      <td>kolkata</td>\n",
       "    </tr>\n",
       "    <tr>\n",
       "      <th>1</th>\n",
       "      <td>0.0</td>\n",
       "      <td>Petrol</td>\n",
       "      <td>Hatchback</td>\n",
       "      <td>23,981</td>\n",
       "      <td>Manual</td>\n",
       "      <td>1.0</td>\n",
       "      <td>1st Owner</td>\n",
       "      <td>Datsun</td>\n",
       "      <td>Datsun RediGO</td>\n",
       "      <td>2017.0</td>\n",
       "      <td>...</td>\n",
       "      <td>NaN</td>\n",
       "      <td>NaN</td>\n",
       "      <td>5.0</td>\n",
       "      <td>185mm</td>\n",
       "      <td>222</td>\n",
       "      <td>NaN</td>\n",
       "      <td>NaN</td>\n",
       "      <td>NaN</td>\n",
       "      <td>https://www.cardekho.com/buy-used-car-details/...</td>\n",
       "      <td>kolkata</td>\n",
       "    </tr>\n",
       "  </tbody>\n",
       "</table>\n",
       "<p>2 rows × 75 columns</p>\n",
       "</div>"
      ],
      "text/plain": [
       "    it      ft         bt      km transmission  ownerNo      owner     oem  \\\n",
       "0  0.0  Petrol      Sedan  70,000    Automatic      3.0  3rd Owner  Toyota   \n",
       "1  0.0  Petrol  Hatchback  23,981       Manual      1.0  1st Owner  Datsun   \n",
       "\n",
       "           model  modelYear  ...        Tyre Type Alloy Wheel Size  \\\n",
       "0   Toyota Camry     2014.0  ...  Tubeless,Radial               17   \n",
       "1  Datsun RediGO     2017.0  ...              NaN              NaN   \n",
       "\n",
       "  No Door Numbers Ground Clearance Unladen  Cargo Volumn  Compression Ratio  \\\n",
       "0             4.0                      NaN           NaN                NaN   \n",
       "1             5.0                    185mm           222                NaN   \n",
       "\n",
       "  Acceleration Top Speed                                          car_links  \\\n",
       "0          NaN       NaN  https://www.cardekho.com/used-car-details/used...   \n",
       "1          NaN       NaN  https://www.cardekho.com/buy-used-car-details/...   \n",
       "\n",
       "      city  \n",
       "0  kolkata  \n",
       "1  kolkata  \n",
       "\n",
       "[2 rows x 75 columns]"
      ]
     },
     "execution_count": 119,
     "metadata": {},
     "output_type": "execute_result"
    }
   ],
   "source": [
    "df.head(2)"
   ]
  },
  {
   "cell_type": "code",
   "execution_count": 120,
   "id": "da290e14",
   "metadata": {},
   "outputs": [
    {
     "data": {
      "text/plain": [
       "Index(['it', 'ft', 'bt', 'km', 'transmission', 'ownerNo', 'owner', 'oem',\n",
       "       'model', 'modelYear', 'centralVariantId', 'variantName', 'price',\n",
       "       'priceActual', 'priceSaving', 'priceFixedText', 'trendingText',\n",
       "       'Registration Year', 'Insurance Validity', 'Fuel Type', 'Seats',\n",
       "       'Kms Driven', 'RTO', 'Ownership', 'Engine Displacement', 'Transmission',\n",
       "       'Year of Manufacture', 'features', 'Comfort & Convenience', 'Interior',\n",
       "       'Exterior', 'Safety', 'Entertainment & Communication', 'Mileage',\n",
       "       'Engine', 'Max Power', 'Torque', 'Wheel Size', 'Seats.1', 'Color',\n",
       "       'Engine Type', 'Displacement', 'Max Torque', 'No of Cylinder',\n",
       "       'Values per Cylinder', 'Value Configuration', 'Fuel Suppy System',\n",
       "       'BoreX Stroke', 'Turbo Charger', 'Super Charger', 'Length', 'Width',\n",
       "       'Height', 'Wheel Base', 'Front Tread', 'Rear Tread', 'Kerb Weight',\n",
       "       'Gross Weight', 'Gear Box', 'Drive Type', 'Seating Capacity',\n",
       "       'Steering Type', 'Turning Radius', 'Front Brake Type',\n",
       "       'Rear Brake Type', 'Tyre Type', 'Alloy Wheel Size', 'No Door Numbers',\n",
       "       'Ground Clearance Unladen', 'Cargo Volumn', 'Compression Ratio',\n",
       "       'Acceleration', 'Top Speed', 'car_links', 'city'],\n",
       "      dtype='object')"
      ]
     },
     "execution_count": 120,
     "metadata": {},
     "output_type": "execute_result"
    }
   ],
   "source": [
    "df.columns"
   ]
  },
  {
   "cell_type": "code",
   "execution_count": null,
   "id": "15825b47",
   "metadata": {},
   "outputs": [],
   "source": [
    "#droping columns having null above 40 percent\n",
    "forty_percent= (40*len(df))/100\n",
    "for columns in df.columns:\n",
    "    if df[columns].isnull().sum() > forty_percent:\n",
    "        df.drop(columns=[columns],inplace=True)"
   ]
  },
  {
   "cell_type": "code",
   "execution_count": null,
   "id": "e36d3498",
   "metadata": {},
   "outputs": [],
   "source": [
    "#droping duplicate columns\n",
    "df.drop(columns=['owner','trendingText','Ownership',\n",
    "                 'Transmission','Year of Manufacture','Engine','Seats.1',\n",
    "                 'Displacement','Max Torque','Seating Capacity'],inplace=True)"
   ]
  },
  {
   "cell_type": "code",
   "execution_count": 123,
   "id": "1c8bee73",
   "metadata": {
    "scrolled": true
   },
   "outputs": [
    {
     "name": "stdout",
     "output_type": "stream",
     "text": [
      "it -- float64 -- 261\n",
      "ft -- object -- 261\n",
      "bt -- object -- 265\n",
      "km -- object -- 261\n",
      "transmission -- object -- 261\n",
      "ownerNo -- float64 -- 261\n",
      "oem -- object -- 261\n",
      "model -- object -- 261\n",
      "modelYear -- float64 -- 261\n",
      "centralVariantId -- float64 -- 261\n",
      "variantName -- object -- 261\n",
      "price -- object -- 261\n",
      "Registration Year -- object -- 313\n",
      "Insurance Validity -- object -- 265\n",
      "Fuel Type -- object -- 261\n",
      "Seats -- object -- 267\n",
      "Kms Driven -- object -- 263\n",
      "RTO -- object -- 1155\n",
      "Engine Displacement -- object -- 265\n",
      "features -- float64 -- 261\n",
      "Comfort & Convenience -- float64 -- 329\n",
      "Interior -- float64 -- 338\n",
      "Exterior -- float64 -- 351\n",
      "Safety -- float64 -- 357\n",
      "Entertainment & Communication -- float64 -- 1356\n",
      "Mileage -- object -- 626\n",
      "Max Power -- object -- 404\n",
      "Torque -- object -- 404\n",
      "Color -- object -- 344\n",
      "Engine Type -- object -- 662\n",
      "No of Cylinder -- float64 -- 380\n",
      "Values per Cylinder -- float64 -- 410\n",
      "Value Configuration -- object -- 2612\n",
      "Fuel Suppy System -- object -- 2102\n",
      "Turbo Charger -- object -- 1406\n",
      "Super Charger -- object -- 2372\n",
      "Length -- object -- 416\n",
      "Width -- object -- 416\n",
      "Height -- object -- 416\n",
      "Wheel Base -- object -- 464\n",
      "Kerb Weight -- object -- 374\n",
      "Gear Box -- object -- 458\n",
      "Drive Type -- object -- 1970\n",
      "Steering Type -- object -- 692\n",
      "Turning Radius -- object -- 2000\n",
      "Front Brake Type -- object -- 434\n",
      "Rear Brake Type -- object -- 434\n",
      "Tyre Type -- object -- 428\n",
      "No Door Numbers -- float64 -- 368\n",
      "Cargo Volumn -- object -- 2042\n",
      "car_links -- object -- 261\n",
      "city -- object -- 0\n"
     ]
    }
   ],
   "source": [
    "for i in df.columns:\n",
    "    print(i,'--',df[i].dtypes,'--',df[i].isnull().sum())"
   ]
  },
  {
   "cell_type": "code",
   "execution_count": 124,
   "id": "24e177df",
   "metadata": {},
   "outputs": [],
   "source": [
    "df['km']=df['km'].str.replace(',','').astype('float')"
   ]
  },
  {
   "cell_type": "code",
   "execution_count": 125,
   "id": "32d3d272",
   "metadata": {},
   "outputs": [],
   "source": [
    "df['modelYear']=df['modelYear'].fillna(df['modelYear'].mode()[0]).astype('object')"
   ]
  },
  {
   "cell_type": "code",
   "execution_count": 126,
   "id": "6cd1574f",
   "metadata": {},
   "outputs": [
    {
     "name": "stderr",
     "output_type": "stream",
     "text": [
      "C:\\Users\\91866\\AppData\\Local\\Temp\\ipykernel_15416\\3200295811.py:10: SettingWithCopyWarning: \n",
      "A value is trying to be set on a copy of a slice from a DataFrame\n",
      "\n",
      "See the caveats in the documentation: https://pandas.pydata.org/pandas-docs/stable/user_guide/indexing.html#returning-a-view-versus-a-copy\n",
      "  df['price'][i]=float(s[1])\n",
      "C:\\Users\\91866\\AppData\\Local\\Temp\\ipykernel_15416\\3200295811.py:14: SettingWithCopyWarning: \n",
      "A value is trying to be set on a copy of a slice from a DataFrame\n",
      "\n",
      "See the caveats in the documentation: https://pandas.pydata.org/pandas-docs/stable/user_guide/indexing.html#returning-a-view-versus-a-copy\n",
      "  df['price'][i]=float(s[1])/100\n",
      "C:\\Users\\91866\\AppData\\Local\\Temp\\ipykernel_15416\\3200295811.py:12: SettingWithCopyWarning: \n",
      "A value is trying to be set on a copy of a slice from a DataFrame\n",
      "\n",
      "See the caveats in the documentation: https://pandas.pydata.org/pandas-docs/stable/user_guide/indexing.html#returning-a-view-versus-a-copy\n",
      "  df['price'][i]=float(s[1])*100\n"
     ]
    }
   ],
   "source": [
    "# Clean the 'price' column\n",
    "df['price'] = df['price'].str.replace(',', '', regex=False)  # Remove commas\n",
    "df['price'] = df['price'].fillna('₹ 0 Lakh')  # Replace NaN with '₹ 0 Lakh'\n",
    "\n",
    "# Convert prices in-place\n",
    "for i in range(len(df['price'])):\n",
    "    s = df['price'].iloc[i].strip().split()\n",
    "    if (len(s)>2):\n",
    "        if (s[-1]=='Lakh'):\n",
    "            df['price'][i]=float(s[1])\n",
    "        elif(s[-1]=='Crore'):\n",
    "            df['price'][i]=float(s[1])*100\n",
    "    else:\n",
    "        df['price'][i]=float(s[1])/100\n",
    "\n",
    "df['price'] = df['price'].astype(float)"
   ]
  },
  {
   "cell_type": "code",
   "execution_count": 127,
   "id": "670479bf",
   "metadata": {},
   "outputs": [],
   "source": [
    "df['Registration Year']=df['Registration Year'].fillna(df['Registration Year'].mode()[0])\n",
    "df['Registration Year']=pd.to_datetime(df['Registration Year'])\n",
    "df['Registration Year']=df['Registration Year'].dt.year"
   ]
  },
  {
   "cell_type": "code",
   "execution_count": 128,
   "id": "af1e45c8",
   "metadata": {},
   "outputs": [],
   "source": [
    "df['Seats']=df['Seats'].str.split(' ').str[0]\n",
    "df['Seats']=df['Seats'].fillna(df['Seats'].mode()[0])\n",
    "df['Seats']=df['Seats'].astype('int')"
   ]
  },
  {
   "cell_type": "code",
   "execution_count": 129,
   "id": "03f6137c",
   "metadata": {},
   "outputs": [],
   "source": [
    "df['Kms Driven']=df['Kms Driven'].str.split().str[0].str.replace(',','').astype('float')"
   ]
  },
  {
   "cell_type": "code",
   "execution_count": 130,
   "id": "a2bef8c5",
   "metadata": {},
   "outputs": [],
   "source": [
    "df['Engine Displacement']=df['Engine Displacement'].str.split().str[0].astype('float')"
   ]
  },
  {
   "cell_type": "code",
   "execution_count": 131,
   "id": "7c662687",
   "metadata": {},
   "outputs": [],
   "source": [
    "df['Mileage']=df['Mileage'].str.split().str[0].astype('float')"
   ]
  },
  {
   "cell_type": "code",
   "execution_count": 132,
   "id": "bc5fb2f4",
   "metadata": {
    "scrolled": true
   },
   "outputs": [],
   "source": [
    "df['Max Power']=df['Max Power'].str.split('@').str[0].str.split(' ').str[0].str.split('b').str[0].str.split('P').str[0].str.split('p').str[0].str.split('(').str[0].astype('float')"
   ]
  },
  {
   "cell_type": "code",
   "execution_count": 133,
   "id": "d802d91a",
   "metadata": {},
   "outputs": [],
   "source": [
    "df['Torque']=df['Torque'].str.split(' ').str[0].str.split('N').str[0].str.split('n').str[0].astype('float')"
   ]
  },
  {
   "cell_type": "code",
   "execution_count": 134,
   "id": "6848e683",
   "metadata": {
    "scrolled": true
   },
   "outputs": [],
   "source": [
    "df['Length']=df['Length'].str.split(\" \").str[0].str.split(\"m\").str[0].str.replace(',','').astype('float')"
   ]
  },
  {
   "cell_type": "code",
   "execution_count": 135,
   "id": "b9db2e9a",
   "metadata": {},
   "outputs": [],
   "source": [
    "df['Width']=df['Width'].str.split(' ').str[0].str.split('m').str[0].str.replace(',','').astype('float')"
   ]
  },
  {
   "cell_type": "code",
   "execution_count": 136,
   "id": "8ac1f585",
   "metadata": {},
   "outputs": [],
   "source": [
    "df['Height']=df['Height'].str.split(' ').str[0].str.split('m').str[0].str.replace(',','').str.split('-').str[0].astype('float')"
   ]
  },
  {
   "cell_type": "code",
   "execution_count": 137,
   "id": "8f4250fc",
   "metadata": {},
   "outputs": [],
   "source": [
    "df['Wheel Base']=df['Wheel Base'].str.split(' ').str[0].str.split('m').str[0].str.replace(',','').astype('float')"
   ]
  },
  {
   "cell_type": "code",
   "execution_count": 138,
   "id": "0f03b7ce",
   "metadata": {},
   "outputs": [],
   "source": [
    "df['Kerb Weight']=df['Kerb Weight'].str.split(' ').str[0].str.split('k').str[0].str.split('K').str[0].str.split('-').str[0].str.replace(',','').astype('float')"
   ]
  },
  {
   "cell_type": "code",
   "execution_count": 139,
   "id": "e080e20e",
   "metadata": {},
   "outputs": [],
   "source": [
    "df['Gear Box']=df['Gear Box'].str.replace('-',' ')"
   ]
  },
  {
   "cell_type": "code",
   "execution_count": 140,
   "id": "e6adc8ea",
   "metadata": {},
   "outputs": [],
   "source": [
    "df['Cargo Volumn']=df['Cargo Volumn'].str.split(\" \").str[0].str.split(\"-\").str[0].str.split(\"/\").str[0].str.split(\"L\").str[0].astype('float')"
   ]
  },
  {
   "cell_type": "code",
   "execution_count": 141,
   "id": "c01a8d3d",
   "metadata": {},
   "outputs": [],
   "source": [
    "df['car_links']=df['car_links'].fillna('unavailable')"
   ]
  },
  {
   "cell_type": "code",
   "execution_count": 147,
   "id": "059cbafa",
   "metadata": {},
   "outputs": [],
   "source": [
    "df['Turning Radius']=df['Turning Radius'].str.split(' ').str[0].str.split('m').str[0].astype('float')"
   ]
  },
  {
   "cell_type": "code",
   "execution_count": 150,
   "id": "9dc28461",
   "metadata": {},
   "outputs": [],
   "source": [
    "#table creation without counted value columns\n",
    "ef=df.drop(columns=['features','Comfort & Convenience','Interior','Exterior','Safety','Entertainment & Communication'])"
   ]
  },
  {
   "cell_type": "code",
   "execution_count": 151,
   "id": "f0294dbf",
   "metadata": {},
   "outputs": [],
   "source": [
    "#counted values columns\n",
    "ef1=df[['features','Comfort & Convenience','Interior','Exterior','Safety','Entertainment & Communication']]"
   ]
  },
  {
   "cell_type": "code",
   "execution_count": 154,
   "id": "9507b8b0",
   "metadata": {},
   "outputs": [],
   "source": [
    "# replace this with mode because these columns as counted values\n",
    "for columns in ef1.columns:\n",
    "    df[columns].fillna(df[columns].mode()[0], inplace=True)"
   ]
  },
  {
   "cell_type": "code",
   "execution_count": 152,
   "id": "c4cfb504",
   "metadata": {},
   "outputs": [],
   "source": [
    "#null imputation\n",
    "\n",
    "forty_percent= (40*len(df))/100\n",
    "for columns in ef.columns:\n",
    "    if df[columns].isnull().sum() > forty_percent:\n",
    "        df.drop(columns=[columns],inplace=True)\n",
    "        \n",
    "    elif df[columns].dtypes in [\"int64\", \"float64\"]:\n",
    "        \n",
    "            if df[columns].skew() < 0.4 and df[columns].skew() > -0.4:  #outliers\n",
    "                \n",
    "                df[columns].fillna(df[columns].mean(), inplace=True)\n",
    "                \n",
    "            else:\n",
    "                df[columns].fillna(df[columns].median(), inplace=True)\n",
    "    else:\n",
    "        df[columns].fillna(df[columns].mode()[0], inplace=True)"
   ]
  },
  {
   "cell_type": "code",
   "execution_count": 155,
   "id": "d5b3c27f",
   "metadata": {
    "scrolled": true
   },
   "outputs": [
    {
     "data": {
      "text/plain": [
       "it                               0\n",
       "ft                               0\n",
       "bt                               0\n",
       "km                               0\n",
       "transmission                     0\n",
       "ownerNo                          0\n",
       "oem                              0\n",
       "model                            0\n",
       "modelYear                        0\n",
       "centralVariantId                 0\n",
       "variantName                      0\n",
       "price                            0\n",
       "Registration Year                0\n",
       "Insurance Validity               0\n",
       "Fuel Type                        0\n",
       "Seats                            0\n",
       "Kms Driven                       0\n",
       "RTO                              0\n",
       "Engine Displacement              0\n",
       "features                         0\n",
       "Comfort & Convenience            0\n",
       "Interior                         0\n",
       "Exterior                         0\n",
       "Safety                           0\n",
       "Entertainment & Communication    0\n",
       "Mileage                          0\n",
       "Max Power                        0\n",
       "Torque                           0\n",
       "Color                            0\n",
       "Engine Type                      0\n",
       "No of Cylinder                   0\n",
       "Values per Cylinder              0\n",
       "Value Configuration              0\n",
       "Fuel Suppy System                0\n",
       "Turbo Charger                    0\n",
       "Super Charger                    0\n",
       "Length                           0\n",
       "Width                            0\n",
       "Height                           0\n",
       "Wheel Base                       0\n",
       "Kerb Weight                      0\n",
       "Gear Box                         0\n",
       "Drive Type                       0\n",
       "Steering Type                    0\n",
       "Turning Radius                   0\n",
       "Front Brake Type                 0\n",
       "Rear Brake Type                  0\n",
       "Tyre Type                        0\n",
       "No Door Numbers                  0\n",
       "Cargo Volumn                     0\n",
       "car_links                        0\n",
       "city                             0\n",
       "dtype: int64"
      ]
     },
     "execution_count": 155,
     "metadata": {},
     "output_type": "execute_result"
    }
   ],
   "source": [
    "df.isnull().sum()"
   ]
  },
  {
   "cell_type": "code",
   "execution_count": 156,
   "id": "1f5ca130",
   "metadata": {},
   "outputs": [],
   "source": [
    "df.to_excel('E:/car_price_prediction/cleaned_data.xlsx')"
   ]
  },
  {
   "cell_type": "code",
   "execution_count": null,
   "id": "34930af7",
   "metadata": {},
   "outputs": [],
   "source": []
  }
 ],
 "metadata": {
  "kernelspec": {
   "display_name": "Python 3 (ipykernel)",
   "language": "python",
   "name": "python3"
  },
  "language_info": {
   "codemirror_mode": {
    "name": "ipython",
    "version": 3
   },
   "file_extension": ".py",
   "mimetype": "text/x-python",
   "name": "python",
   "nbconvert_exporter": "python",
   "pygments_lexer": "ipython3",
   "version": "3.9.13"
  }
 },
 "nbformat": 4,
 "nbformat_minor": 5
}
