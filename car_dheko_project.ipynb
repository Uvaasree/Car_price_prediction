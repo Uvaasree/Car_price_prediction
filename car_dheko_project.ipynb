{
 "cells": [
  {
   "cell_type": "code",
   "execution_count": 2,
   "id": "67f37c8d",
   "metadata": {},
   "outputs": [],
   "source": [
    "import pandas as pd\n",
    "import ast"
   ]
  },
  {
   "cell_type": "code",
   "execution_count": 3,
   "id": "066ae498",
   "metadata": {},
   "outputs": [],
   "source": [
    "def create_dataframe(col):\n",
    "    df=pd.DataFrame([ast.literal_eval(col[0])])\n",
    "    \n",
    "    # for the whole data\n",
    "    for j in range(1,len(col)):\n",
    "        ef=pd.DataFrame([ast.literal_eval(col[j])])\n",
    "        df = pd.concat([df,ef], ignore_index=True)\n",
    "    return df \n",
    "\n",
    "def create_dataframe1(col):\n",
    "    df=pd.DataFrame(ast.literal_eval(col[0]))\n",
    "        # List of dictionaries\n",
    "    data = list(df['top'])\n",
    "    # Create an empty dictionary to store the transformed data\n",
    "    new_dict = {}\n",
    "\n",
    "    # Loop through each dictionary in the list\n",
    "    for item in data:\n",
    "        # Use the 'key' as the new key and 'value' as the new value\n",
    "        new_dict[item['key']] = item['value']\n",
    "    df1=pd.DataFrame([new_dict])\n",
    "    \n",
    "    for j in range(1,len(col)):\n",
    "        df=pd.DataFrame(ast.literal_eval(col[j]))\n",
    "        # List of dictionaries\n",
    "        data = list(df['top'])\n",
    "        # Create an empty dictionary to store the transformed data\n",
    "        new_dict = {}\n",
    "\n",
    "        # Loop through each dictionary in the list\n",
    "        for item in data:\n",
    "            # Use the 'key' as the new key and 'value' as the new value\n",
    "            new_dict[item['key']] = item['value']\n",
    "        ef=pd.DataFrame([new_dict])\n",
    "        df1= pd.concat([df1,ef], ignore_index=True)\n",
    "    \n",
    "    return df1\n",
    "        \n",
    "def create_dataframe2(col):\n",
    "    #original data structure\n",
    "    data=[ast.literal_eval(col[0])]\n",
    "\n",
    "    # Initialize a dictionary to store the counts\n",
    "    feature_counts = {}\n",
    "\n",
    "    # Count the number of features in the 'top' list\n",
    "    feature_counts['features'] = len(data[0]['top'])\n",
    "\n",
    "    # Count features for each section in 'data'\n",
    "    for section in data[0]['data']:\n",
    "        heading = section['heading']\n",
    "        feature_counts[heading] = len(section['list'])\n",
    "\n",
    "    df=pd.DataFrame([feature_counts])\n",
    "    \n",
    "    for j in range(1,len(col)):\n",
    "                #original data structure\n",
    "        data=[ast.literal_eval(col[j])]\n",
    "\n",
    "        # Initialize a dictionary to store the counts\n",
    "        feature_counts = {}\n",
    "\n",
    "        # Count the number of features in the 'top' list\n",
    "        feature_counts['features'] = len(data[0]['top'])\n",
    "\n",
    "        # Count features for each section in 'data'\n",
    "        for section in data[0]['data']:\n",
    "            heading = section['heading']\n",
    "            feature_counts[heading] = len(section['list'])\n",
    "\n",
    "        ef=pd.DataFrame([feature_counts])\n",
    "        df= pd.concat([df,ef], ignore_index=True)\n",
    "    \n",
    "    return df\n",
    "\n",
    "def create_dataframe3(col):\n",
    "    #original data structure\n",
    "    data=[ast.literal_eval(col[0])]\n",
    "\n",
    "    # Initialize a dictionary\n",
    "    new_dict = {}\n",
    "    for item in data[0]['top']:\n",
    "        # Use the 'key' as the new key and 'value' as the new value\n",
    "        new_dict[item['key']] = item['value']\n",
    "\n",
    "    for item in data[0]['data']:\n",
    "        item1=item['list']\n",
    "        for i in item1:\n",
    "            # Use the 'key' as the new key and 'value' as the new value\n",
    "            new_dict[i['key']] = i['value']\n",
    "    df=pd.DataFrame([new_dict])\n",
    "            \n",
    "    # for whole data\n",
    "    for j in range(1,len(col)):\n",
    "        \n",
    "        data=[ast.literal_eval(col[j])]\n",
    "\n",
    "        # Initialize a dictionary\n",
    "        new_dict = {}\n",
    "        for item in data[0]['top']:\n",
    "            # Use the 'key' as the new key and 'value' as the new value\n",
    "            new_dict[item['key']] = item['value']\n",
    "\n",
    "        for item in data[0]['data']:\n",
    "            item1=item['list']\n",
    "            for i in item1:\n",
    "                new_dict[i['key']] = i['value']\n",
    "\n",
    "        ef=pd.DataFrame([new_dict])\n",
    "        df= pd.concat([df,ef], ignore_index=True)\n",
    "        \n",
    "    return df\n",
    "\n",
    "def converting_function(df):\n",
    "    col=df['new_car_detail'] # assigning column1\n",
    "    result=create_dataframe(col)\n",
    "    \n",
    "    col=df['new_car_overview']  # assigning column2\n",
    "    result1=create_dataframe1(col)\n",
    "    \n",
    "    col=df['new_car_feature']  # assigning column3\n",
    "    result2=create_dataframe2(col)\n",
    "    \n",
    "    col=kol['new_car_specs']  # assigning column4\n",
    "    result3=create_dataframe3(col)\n",
    "    \n",
    "    result4=df['car_links']  # assigning column5\n",
    "    \n",
    "    data_set=pd.concat([result,result1,result2,result3,result4],axis=1)\n",
    "    \n",
    "    return data_set\n"
   ]
  },
  {
   "cell_type": "code",
   "execution_count": 4,
   "id": "c4bf3513",
   "metadata": {},
   "outputs": [],
   "source": [
    "kol=pd.read_excel(\"E:/car_price_prediction/datasets/kolkata_cars.xlsx\")"
   ]
  },
  {
   "cell_type": "code",
   "execution_count": 5,
   "id": "27047581",
   "metadata": {},
   "outputs": [],
   "source": [
    "df=converting_function(kol)\n",
    "df['city']='kolkata'"
   ]
  },
  {
   "cell_type": "code",
   "execution_count": 7,
   "id": "16b978f2",
   "metadata": {},
   "outputs": [],
   "source": [
    "bangalore=pd.read_excel(\"E:/car_price_prediction/datasets/bangalore_cars.xlsx\")"
   ]
  },
  {
   "cell_type": "code",
   "execution_count": 8,
   "id": "f39ef56a",
   "metadata": {},
   "outputs": [],
   "source": [
    "df1=converting_function(bangalore)\n",
    "df1['city']='bangalore'"
   ]
  },
  {
   "cell_type": "code",
   "execution_count": 10,
   "id": "2bb06c61",
   "metadata": {},
   "outputs": [],
   "source": [
    "chennai=pd.read_excel(\"E:/car_price_prediction/datasets/chennai_cars.xlsx\")"
   ]
  },
  {
   "cell_type": "code",
   "execution_count": 11,
   "id": "4e410ad7",
   "metadata": {},
   "outputs": [],
   "source": [
    "df2=converting_function(chennai)\n",
    "df2['city']='chennai'"
   ]
  },
  {
   "cell_type": "code",
   "execution_count": 13,
   "id": "b83c1dc3",
   "metadata": {},
   "outputs": [],
   "source": [
    "delhi=pd.read_excel(\"E:/car_price_prediction/datasets/delhi_cars.xlsx\")"
   ]
  },
  {
   "cell_type": "code",
   "execution_count": 14,
   "id": "69b42c98",
   "metadata": {},
   "outputs": [],
   "source": [
    "df3=converting_function(delhi)\n",
    "df3['city']='delhi'"
   ]
  },
  {
   "cell_type": "code",
   "execution_count": 16,
   "id": "bf55bca6",
   "metadata": {},
   "outputs": [],
   "source": [
    "hyderabad=pd.read_excel(\"E:/car_price_prediction/datasets/hyderabad_cars.xlsx\")"
   ]
  },
  {
   "cell_type": "code",
   "execution_count": 17,
   "id": "fd789882",
   "metadata": {},
   "outputs": [],
   "source": [
    "df4=converting_function(hyderabad)\n",
    "df4['city']='hyderabad'"
   ]
  },
  {
   "cell_type": "code",
   "execution_count": 19,
   "id": "6d3e2e54",
   "metadata": {},
   "outputs": [],
   "source": [
    "jaipur=pd.read_excel(\"E:/car_price_prediction/datasets/jaipur_cars.xlsx\")"
   ]
  },
  {
   "cell_type": "code",
   "execution_count": 20,
   "id": "98f187e0",
   "metadata": {},
   "outputs": [],
   "source": [
    "df5=converting_function(jaipur)\n",
    "df5['city']='jaipur'"
   ]
  },
  {
   "cell_type": "markdown",
   "id": "40500d0d",
   "metadata": {},
   "source": [
    "# merging data"
   ]
  },
  {
   "cell_type": "code",
   "execution_count": 31,
   "id": "77b8fe0a",
   "metadata": {},
   "outputs": [],
   "source": [
    "d1=pd.concat([df,df1,df2,df4,df5])"
   ]
  },
  {
   "cell_type": "code",
   "execution_count": 111,
   "id": "e42baa70",
   "metadata": {},
   "outputs": [
    {
     "data": {
      "text/plain": [
       "Index(['it', 'ft', 'bt', 'km', 'transmission', 'ownerNo', 'owner', 'oem',\n",
       "       'model', 'modelYear', 'centralVariantId', 'variantName', 'price',\n",
       "       'priceActual', 'priceSaving', 'priceFixedText', 'trendingText',\n",
       "       'Registration Year', 'Insurance Validity', 'Fuel Type', 'Seats',\n",
       "       'Kms Driven', 'RTO', 'Ownership', 'Engine Displacement', 'Transmission',\n",
       "       'Year of Manufacture', 'features', 'Comfort & Convenience', 'Interior',\n",
       "       'Exterior', 'Safety', 'Entertainment & Communication', 'Mileage',\n",
       "       'Engine', 'Max Power', 'Torque', 'Wheel Size', 'Seats', 'Color',\n",
       "       'Engine Type', 'Displacement', 'Max Torque', 'No of Cylinder',\n",
       "       'Values per Cylinder', 'Value Configuration', 'Fuel Suppy System',\n",
       "       'BoreX Stroke', 'Turbo Charger', 'Super Charger', 'Length', 'Width',\n",
       "       'Height', 'Wheel Base', 'Front Tread', 'Rear Tread', 'Kerb Weight',\n",
       "       'Gross Weight', 'Gear Box', 'Drive Type', 'Seating Capacity',\n",
       "       'Steering Type', 'Turning Radius', 'Front Brake Type',\n",
       "       'Rear Brake Type', 'Tyre Type', 'Alloy Wheel Size', 'No Door Numbers',\n",
       "       'Ground Clearance Unladen', 'Cargo Volumn', 'Compression Ratio',\n",
       "       'Acceleration', 'Top Speed', 'car_links', 'city'],\n",
       "      dtype='object')"
      ]
     },
     "execution_count": 111,
     "metadata": {},
     "output_type": "execute_result"
    }
   ],
   "source": [
    "d1.columns"
   ]
  },
  {
   "cell_type": "code",
   "execution_count": 49,
   "id": "a516d478",
   "metadata": {},
   "outputs": [
    {
     "data": {
      "text/plain": [
       "Index(['it', 'ft', 'bt', 'km', 'transmission', 'ownerNo', 'owner', 'oem',\n",
       "       'model', 'modelYear', 'centralVariantId', 'variantName', 'price',\n",
       "       'priceActual', 'priceSaving', 'priceFixedText', 'trendingText',\n",
       "       'Registration Year', 'Insurance Validity', 'Fuel Type', 'Seats',\n",
       "       'Kms Driven', 'Ownership', 'Engine Displacement', 'Transmission',\n",
       "       'Year of Manufacture', 'RTO', 'features', 'Comfort & Convenience',\n",
       "       'Interior', 'Exterior', 'Safety', 'Entertainment & Communication',\n",
       "       'Mileage', 'Engine', 'Max Power', 'Torque', 'Wheel Size', 'Seats',\n",
       "       'Color', 'Engine Type', 'Displacement', 'Max Torque', 'No of Cylinder',\n",
       "       'Values per Cylinder', 'Value Configuration', 'Fuel Suppy System',\n",
       "       'BoreX Stroke', 'Turbo Charger', 'Super Charger', 'Length', 'Width',\n",
       "       'Height', 'Wheel Base', 'Front Tread', 'Rear Tread', 'Kerb Weight',\n",
       "       'Gross Weight', 'Gear Box', 'Drive Type', 'Seating Capacity',\n",
       "       'Steering Type', 'Turning Radius', 'Front Brake Type',\n",
       "       'Rear Brake Type', 'Tyre Type', 'Alloy Wheel Size', 'No Door Numbers',\n",
       "       'Ground Clearance Unladen', 'Cargo Volumn', 'Compression Ratio',\n",
       "       'Acceleration', 'Top Speed', 'car_links', 'city'],\n",
       "      dtype='object')"
      ]
     },
     "execution_count": 49,
     "metadata": {},
     "output_type": "execute_result"
    }
   ],
   "source": [
    "df3.columns"
   ]
  },
  {
   "cell_type": "code",
   "execution_count": 110,
   "id": "a58c3e67",
   "metadata": {},
   "outputs": [
    {
     "data": {
      "text/html": [
       "<div>\n",
       "<style scoped>\n",
       "    .dataframe tbody tr th:only-of-type {\n",
       "        vertical-align: middle;\n",
       "    }\n",
       "\n",
       "    .dataframe tbody tr th {\n",
       "        vertical-align: top;\n",
       "    }\n",
       "\n",
       "    .dataframe thead th {\n",
       "        text-align: right;\n",
       "    }\n",
       "</style>\n",
       "<table border=\"1\" class=\"dataframe\">\n",
       "  <thead>\n",
       "    <tr style=\"text-align: right;\">\n",
       "      <th></th>\n",
       "      <th>0</th>\n",
       "      <th>1</th>\n",
       "      <th>2</th>\n",
       "      <th>3</th>\n",
       "      <th>4</th>\n",
       "      <th>5</th>\n",
       "      <th>6</th>\n",
       "      <th>7</th>\n",
       "      <th>8</th>\n",
       "      <th>9</th>\n",
       "      <th>...</th>\n",
       "      <th>65</th>\n",
       "      <th>66</th>\n",
       "      <th>67</th>\n",
       "      <th>68</th>\n",
       "      <th>69</th>\n",
       "      <th>70</th>\n",
       "      <th>71</th>\n",
       "      <th>72</th>\n",
       "      <th>73</th>\n",
       "      <th>74</th>\n",
       "    </tr>\n",
       "  </thead>\n",
       "  <tbody>\n",
       "    <tr>\n",
       "      <th>0</th>\n",
       "      <td>it</td>\n",
       "      <td>ft</td>\n",
       "      <td>bt</td>\n",
       "      <td>km</td>\n",
       "      <td>transmission</td>\n",
       "      <td>ownerNo</td>\n",
       "      <td>owner</td>\n",
       "      <td>oem</td>\n",
       "      <td>model</td>\n",
       "      <td>modelYear</td>\n",
       "      <td>...</td>\n",
       "      <td>Tyre Type</td>\n",
       "      <td>Alloy Wheel Size</td>\n",
       "      <td>No Door Numbers</td>\n",
       "      <td>Ground Clearance Unladen</td>\n",
       "      <td>Cargo Volumn</td>\n",
       "      <td>Compression Ratio</td>\n",
       "      <td>Acceleration</td>\n",
       "      <td>Top Speed</td>\n",
       "      <td>car_links</td>\n",
       "      <td>city</td>\n",
       "    </tr>\n",
       "    <tr>\n",
       "      <th>1</th>\n",
       "      <td>it</td>\n",
       "      <td>ft</td>\n",
       "      <td>bt</td>\n",
       "      <td>km</td>\n",
       "      <td>transmission</td>\n",
       "      <td>ownerNo</td>\n",
       "      <td>owner</td>\n",
       "      <td>oem</td>\n",
       "      <td>model</td>\n",
       "      <td>modelYear</td>\n",
       "      <td>...</td>\n",
       "      <td>Tyre Type</td>\n",
       "      <td>Alloy Wheel Size</td>\n",
       "      <td>No Door Numbers</td>\n",
       "      <td>Ground Clearance Unladen</td>\n",
       "      <td>Cargo Volumn</td>\n",
       "      <td>Compression Ratio</td>\n",
       "      <td>Acceleration</td>\n",
       "      <td>Top Speed</td>\n",
       "      <td>car_links</td>\n",
       "      <td>city</td>\n",
       "    </tr>\n",
       "  </tbody>\n",
       "</table>\n",
       "<p>2 rows × 75 columns</p>\n",
       "</div>"
      ],
      "text/plain": [
       "   0   1   2   3             4        5      6    7      8          9   ...  \\\n",
       "0  it  ft  bt  km  transmission  ownerNo  owner  oem  model  modelYear  ...   \n",
       "1  it  ft  bt  km  transmission  ownerNo  owner  oem  model  modelYear  ...   \n",
       "\n",
       "          65                66               67                        68  \\\n",
       "0  Tyre Type  Alloy Wheel Size  No Door Numbers  Ground Clearance Unladen   \n",
       "1  Tyre Type  Alloy Wheel Size  No Door Numbers  Ground Clearance Unladen   \n",
       "\n",
       "             69                 70            71         72         73    74  \n",
       "0  Cargo Volumn  Compression Ratio  Acceleration  Top Speed  car_links  city  \n",
       "1  Cargo Volumn  Compression Ratio  Acceleration  Top Speed  car_links  city  \n",
       "\n",
       "[2 rows x 75 columns]"
      ]
     },
     "execution_count": 110,
     "metadata": {},
     "output_type": "execute_result"
    }
   ],
   "source": [
    "pd.DataFrame([d1.columns,df3.columns])"
   ]
  },
  {
   "cell_type": "code",
   "execution_count": 109,
   "id": "041b6efb",
   "metadata": {},
   "outputs": [],
   "source": [
    "# here changing the table structure of df3 to match the other table"
   ]
  },
  {
   "cell_type": "code",
   "execution_count": 44,
   "id": "7d6d45d8",
   "metadata": {},
   "outputs": [],
   "source": [
    "c1=df3.iloc[:, :22]"
   ]
  },
  {
   "cell_type": "code",
   "execution_count": 46,
   "id": "27c10d24",
   "metadata": {},
   "outputs": [],
   "source": [
    "c2=df3.iloc[:, [26,22,23,24,25]]"
   ]
  },
  {
   "cell_type": "code",
   "execution_count": 50,
   "id": "f0aeab1b",
   "metadata": {},
   "outputs": [],
   "source": [
    "c3=df3.iloc[:,27:]"
   ]
  },
  {
   "cell_type": "code",
   "execution_count": 54,
   "id": "e919d5c1",
   "metadata": {},
   "outputs": [],
   "source": [
    "df3_changed=pd.concat([c1,c2,c3],axis=1)"
   ]
  },
  {
   "cell_type": "code",
   "execution_count": 55,
   "id": "2710f4f0",
   "metadata": {},
   "outputs": [],
   "source": [
    "# meging the df3_changed\n",
    "merged_data=pd.concat([d1,df3_changed],ignore_index=True)"
   ]
  },
  {
   "cell_type": "code",
   "execution_count": 57,
   "id": "3d816312",
   "metadata": {},
   "outputs": [],
   "source": [
    "merged_data.to_excel(\"E:/car_price_prediction/car_price_data.xlsx\")"
   ]
  },
  {
   "cell_type": "code",
   "execution_count": null,
   "id": "afbe6d91",
   "metadata": {},
   "outputs": [],
   "source": []
  }
 ],
 "metadata": {
  "kernelspec": {
   "display_name": "Python 3 (ipykernel)",
   "language": "python",
   "name": "python3"
  },
  "language_info": {
   "codemirror_mode": {
    "name": "ipython",
    "version": 3
   },
   "file_extension": ".py",
   "mimetype": "text/x-python",
   "name": "python",
   "nbconvert_exporter": "python",
   "pygments_lexer": "ipython3",
   "version": "3.9.13"
  }
 },
 "nbformat": 4,
 "nbformat_minor": 5
}
